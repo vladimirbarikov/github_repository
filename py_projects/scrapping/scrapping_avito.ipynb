{
 "cells": [
  {
   "cell_type": "code",
   "execution_count": null,
   "id": "51c4c41c",
   "metadata": {},
   "outputs": [],
   "source": [
    "from bs4 import BeautifulSoup  # для парсинга старниц\n",
    "import requests                # для запросов к сайту, получения содержимого веб-страницы\n",
    "from requests import get\n",
    "import time\n",
    "import random\n",
    "\n",
    "url = 'https://www.avito.ru/moskva/kvartiry/prodam-ASgBAgICAUSSA8YQ?context=H4sIAAAAAAAA_0q0MrSqLraysFJKK8rPDUhMT1WyLrYyNLNSKk5NLErOcMsvyg3PTElPLVGyrgUEAAD__xf8iH4tAAAA&p='\n",
    "houses = []\n",
    "count = 1\n",
    "while count <= 5:\n",
    "    url = 'https://www.avito.ru/moskva/kvartiry/prodam-ASgBAgICAUSSA8YQ?context=H4sIAAAAAAAA_0q0MrSqLraysFJKK8rPDUhMT1WyLrYyNLNSKk5NLErOcMsvyg3PTElPLVGyrgUEAAD__xf8iH4tAAAA&p=' + str(count)\n",
    "    print(url)\n",
    "    response = get(url)\n",
    "    html_soup = BeautifulSoup(response.text, 'html.parser')\n",
    "\n",
    "    house_data = html_soup.find_all('div', marker=\"item\")\n",
    "    if house_data != []:\n",
    "        houses.extend(house_data)\n",
    "        value = random.random()\n",
    "        scaled_value = 1 + (value * (9 - 5))\n",
    "        print(scaled_value)\n",
    "        time.sleep(scaled_value)\n",
    "    else:\n",
    "        print('empty')\n",
    "        break\n",
    "    count += 1\n",
    "    \n",
    "print(len(houses))\n",
    "print(houses[0])\n",
    "print()\n",
    "n = int(len(houses)) - 1\n",
    "count = 0\n",
    "while count <= 5:  # count <= n\n",
    "    info = houses[int(count)]\n",
    "    price = info.find('span',{\"class\":\"\"}).text\n",
    "    title = info.find('a',{\"class\":\"href\"}).text\n",
    "    print(title, ' ', price)\n",
    "    count += 1"
   ]
  }
 ],
 "metadata": {
  "kernelspec": {
   "display_name": "Python 3 (ipykernel)",
   "language": "python",
   "name": "python3"
  },
  "language_info": {
   "codemirror_mode": {
    "name": "ipython",
    "version": 3
   },
   "file_extension": ".py",
   "mimetype": "text/x-python",
   "name": "python",
   "nbconvert_exporter": "python",
   "pygments_lexer": "ipython3",
   "version": "3.9.12"
  }
 },
 "nbformat": 4,
 "nbformat_minor": 5
}
